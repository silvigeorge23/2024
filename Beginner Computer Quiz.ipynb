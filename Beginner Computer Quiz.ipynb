{
 "cells": [
  {
   "cell_type": "code",
   "execution_count": 1,
   "id": "486d6fb0",
   "metadata": {},
   "outputs": [
    {
     "name": "stdout",
     "output_type": "stream",
     "text": [
      "Welcome to Silvi's computer quiz!\n"
     ]
    }
   ],
   "source": [
    "print(\"Welcome to Silvi's computer quiz!\")"
   ]
  },
  {
   "cell_type": "code",
   "execution_count": 1,
   "id": "d3f94c60",
   "metadata": {},
   "outputs": [
    {
     "name": "stdout",
     "output_type": "stream",
     "text": [
      "Do you want to play? no\n"
     ]
    }
   ],
   "source": [
    "playing = input (\"Do you want to play? \")"
   ]
  },
  {
   "cell_type": "code",
   "execution_count": null,
   "id": "d78438be",
   "metadata": {},
   "outputs": [],
   "source": [
    "if playing.lower() !=\"yes\":\n",
    "    quit()"
   ]
  },
  {
   "cell_type": "code",
   "execution_count": null,
   "id": "839f4b51",
   "metadata": {},
   "outputs": [],
   "source": [
    "print(\"Okay! Let's begin :D\")\n",
    "score = 0"
   ]
  },
  {
   "cell_type": "code",
   "execution_count": 9,
   "id": "48d9126a",
   "metadata": {},
   "outputs": [
    {
     "name": "stdout",
     "output_type": "stream",
     "text": [
      "What does CPU stand for? Central Processing Unit\n"
     ]
    }
   ],
   "source": [
    "answer = input(\"What does CPU stand for? \")\n",
    "\n",
    "if answer == \"Central Processing Unit\" :\n",
    "    print(\"Correct, Well Done!\")\n",
    "    score +=1\n",
    "elif answer == \"central processing unit\":\n",
    "    print (\"Psst. Check your caps and try again\")\n",
    "else:\n",
    "    print(\"Uh oh, try again.\")"
   ]
  },
  {
   "cell_type": "code",
   "execution_count": 10,
   "id": "6a898a40",
   "metadata": {},
   "outputs": [
    {
     "name": "stdout",
     "output_type": "stream",
     "text": [
      "Correct, Well Done!\n"
     ]
    }
   ],
   "source": [
    "answer = input(\"What does GPU stand for? \")\n",
    "\n",
    "if answer == \"Graphics Processing Unit\" :\n",
    "    print(\"Correct, Well Done!\")\n",
    "    score +=1\n",
    "elif answer == \"graphics processing unit\":\n",
    "    print (\"Psst. Check your caps and try again\")\n",
    "else:\n",
    "    print(\"Uh oh, try again.\")"
   ]
  },
  {
   "cell_type": "code",
   "execution_count": 12,
   "id": "96127a64",
   "metadata": {},
   "outputs": [
    {
     "name": "stdout",
     "output_type": "stream",
     "text": [
      "What does RAM stand for? random access memory\n",
      "Psst. Check your caps.\n"
     ]
    }
   ],
   "source": [
    "answer = input(\"What does RAM stand for? \")\n",
    "\n",
    "if answer == \"Random Access Memory\" :\n",
    "    print(\"Correct, Well Done!\")\n",
    "    score +=1\n",
    "elif answer == \"random access memory\":\n",
    "    print (\"Psst. Check your caps and try again\")\n",
    "else:\n",
    "    print(\"Uh oh, try again.\")"
   ]
  },
  {
   "cell_type": "code",
   "execution_count": null,
   "id": "b2c48990",
   "metadata": {},
   "outputs": [],
   "source": [
    "answer = input(\"What does PSU stand for? \")\n",
    "\n",
    "if answer == \"Power Supply\" :\n",
    "    print(\"Correct, Well Done!\")\n",
    "    score +=1\n",
    "elif answer == \"power supply\":\n",
    "    print (\"Psst. Check your caps and try again\")\n",
    "else:\n",
    "    print(\"Uh oh, try again.\")"
   ]
  },
  {
   "cell_type": "code",
   "execution_count": null,
   "id": "2336a780",
   "metadata": {},
   "outputs": [],
   "source": [
    "print(\"You got \" + str(score) + \"questions correct.\")"
   ]
  },
  {
   "cell_type": "code",
   "execution_count": null,
   "id": "4da57644",
   "metadata": {},
   "outputs": [],
   "source": [
    "print(\"That's \" + str((score/4) *100) + \"%!\")"
   ]
  }
 ],
 "metadata": {
  "kernelspec": {
   "display_name": "Python 3 (ipykernel)",
   "language": "python",
   "name": "python3"
  },
  "language_info": {
   "codemirror_mode": {
    "name": "ipython",
    "version": 3
   },
   "file_extension": ".py",
   "mimetype": "text/x-python",
   "name": "python",
   "nbconvert_exporter": "python",
   "pygments_lexer": "ipython3",
   "version": "3.11.3"
  }
 },
 "nbformat": 4,
 "nbformat_minor": 5
}
